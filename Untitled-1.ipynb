{
 "cells": [
  {
   "cell_type": "code",
   "execution_count": 17,
   "metadata": {},
   "outputs": [],
   "source": [
    "import re\n",
    "from pathlib import Path\n",
    "\n",
    "file = Path('test/inductor/s429861_repro.py')\n",
    "content = file.read_text(encoding='utf-8')"
   ]
  },
  {
   "cell_type": "code",
   "execution_count": 18,
   "metadata": {},
   "outputs": [],
   "source": [
    "def replace(m: re.Match) -> str:\n",
    "    s = m.group()\n",
    "    if '\\n' not in s:\n",
    "        return s\n",
    "    indent = m.group(\"indent\")\n",
    "    varnames = s.removesuffix(\"None\").replace(\"=\", \"\").replace(\"(\", \"\").replace(\")\", \"\").split()\n",
    "    return \"\\n\".join(\n",
    "        [\n",
    "            f\"{indent}(\",\n",
    "            *(f\"{indent}    {varname},\" for varname in varnames),\n",
    "            f\"{indent}) = (None,) * {len(varnames)}\",\n",
    "        ]\n",
    "    )"
   ]
  },
  {
   "cell_type": "code",
   "execution_count": 19,
   "metadata": {},
   "outputs": [],
   "source": [
    "new_content = re.sub(r'^(?P<indent> *)\\w+ *=(\\s*(\\(\\s*\\w+\\s*\\)|\\w+)\\s*=\\s*)+None$', replace, content, flags=re.MULTILINE)"
   ]
  },
  {
   "cell_type": "code",
   "execution_count": 20,
   "metadata": {},
   "outputs": [
    {
     "data": {
      "text/html": [
       "<pre style=\"white-space:pre;overflow-x:auto;line-height:normal;font-family:Menlo,'DejaVu Sans Mono',consolas,'Courier New',monospace\"><span style=\"color: #008080; text-decoration-color: #008080; font-weight: bold\">138426</span>\n",
       "</pre>\n"
      ],
      "text/plain": [
       "\u001b[1;36m138426\u001b[0m\n"
      ]
     },
     "metadata": {},
     "output_type": "display_data"
    }
   ],
   "source": [
    "file.write_text(new_content, encoding='utf-8')"
   ]
  }
 ],
 "metadata": {
  "kernelspec": {
   "display_name": "venv",
   "language": "python",
   "name": "python3"
  },
  "language_info": {
   "codemirror_mode": {
    "name": "ipython",
    "version": 3
   },
   "file_extension": ".py",
   "mimetype": "text/x-python",
   "name": "python",
   "nbconvert_exporter": "python",
   "pygments_lexer": "ipython3",
   "version": "3.13.2"
  }
 },
 "nbformat": 4,
 "nbformat_minor": 2
}
